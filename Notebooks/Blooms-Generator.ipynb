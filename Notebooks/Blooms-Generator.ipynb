{
 "cells": [
  {
   "cell_type": "code",
   "execution_count": 34,
   "id": "05af7be9",
   "metadata": {},
   "outputs": [],
   "source": [
    "import spacy"
   ]
  },
  {
   "cell_type": "code",
   "execution_count": 35,
   "id": "0e8f9c8d",
   "metadata": {},
   "outputs": [],
   "source": [
    "nlp = spacy.load('en_core_web_sm')"
   ]
  },
  {
   "cell_type": "code",
   "execution_count": 36,
   "id": "1d170978",
   "metadata": {},
   "outputs": [],
   "source": [
    "blooms_verbs = {\n",
    "    'Remembering': ['define', 'list', 'name', 'recall', 'recognize'],\n",
    "    'Understanding': ['explain', 'interpret', 'summarize', 'classify', 'compare'],\n",
    "    'Applying': ['apply', 'solve', 'use', 'demonstrate', 'modify'],\n",
    "    'Analyzing': ['analyze', 'compare', 'differentiate', 'organize', 'categorize'],\n",
    "    'Evaluating': ['evaluate', 'judge', 'assess', 'critique', 'justify'],\n",
    "    'Creating': ['create', 'design', 'develop', 'synthesize', 'construct']\n",
    "}"
   ]
  },
  {
   "cell_type": "code",
   "execution_count": 37,
   "id": "ad73d8bb",
   "metadata": {},
   "outputs": [],
   "source": [
    "def identify_blooms_level(question):\n",
    "    doc = nlp(question)\n",
    "    verbs = [token.lemma_ for token in doc if token.pos_ == 'VERB']\n",
    "    for level, bloom_verbs in blooms_verbs.items():\n",
    "        if any(verb in bloom_verbs for verb in verbs):\n",
    "            return level\n",
    "    return None"
   ]
  },
  {
   "cell_type": "code",
   "execution_count": 40,
   "id": "bbf616c5",
   "metadata": {},
   "outputs": [
    {
     "name": "stdout",
     "output_type": "stream",
     "text": [
      "The Bloom's Taxonomy level of the question 'Create low level design of a social media application' is Creating\n"
     ]
    }
   ],
   "source": [
    "question = \"Create low level design of a social media application\"\n",
    "blooms_level = identify_blooms_level(question)\n",
    "print(f\"The Bloom's Taxonomy level of the question '{question}' is {blooms_level}\")"
   ]
  }
 ],
 "metadata": {
  "kernelspec": {
   "display_name": "Python 3 (ipykernel)",
   "language": "python",
   "name": "python3"
  },
  "language_info": {
   "codemirror_mode": {
    "name": "ipython",
    "version": 3
   },
   "file_extension": ".py",
   "mimetype": "text/x-python",
   "name": "python",
   "nbconvert_exporter": "python",
   "pygments_lexer": "ipython3",
   "version": "3.11.3"
  }
 },
 "nbformat": 4,
 "nbformat_minor": 5
}
